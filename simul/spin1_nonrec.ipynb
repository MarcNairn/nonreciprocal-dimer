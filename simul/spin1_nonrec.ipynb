{
 "cells": [
  {
   "cell_type": "markdown",
   "metadata": {},
   "source": [
    "In the case when the ground state is a common state of both spin species, we resort to a spin-1 formulation, the following code implements this description"
   ]
  },
  {
   "cell_type": "code",
   "execution_count": null,
   "metadata": {},
   "outputs": [],
   "source": [
    "using DifferentialEquations, PyPlot, Statistics, LaTeXStrings, PyCall, LinearAlgebra"
   ]
  },
  {
   "cell_type": "code",
   "execution_count": null,
   "metadata": {},
   "outputs": [],
   "source": [
    "ENV[\"PYTHON\"] = \"C:\\\\Users\\\\admin\\\\Anaconda3\\\\envs\\\\data_vis\\\\python.exe\"\n",
    "\n",
    "LogNorm = pyimport(\"matplotlib.colors\").LogNorm\n",
    "cmap = pyimport(\"cmap\")\n",
    "\n",
    "lajolla = cmap.Colormap(\"crameri:lajolla\").to_mpl();\n",
    "balance = cmap.Colormap(\"cmocean:balance\").to_mpl();\n",
    "oslo = cmap.Colormap(\"crameri:oslo\").to_mpl();\n",
    "lipari = cmap.Colormap(\"crameri:lipari\").to_mpl();\n",
    "eclipse = cmap.Colormap(\"cmasher:eclipse\").to_mpl();\n",
    "\n",
    "# Configure LaTeX rendering and fonts\n",
    "PyPlot.matplotlib[:rc](\"text\", usetex=true)\n",
    "PyPlot.matplotlib[:rc](\"font\", family=\"serif\", serif=[\"mathpazo\"], size=18)  # Base font size\n",
    "PyPlot.matplotlib[:rc](\"axes\", titlesize=22)             # Axis title\n",
    "PyPlot.matplotlib[:rc](\"axes\", labelsize=20)             # Axis labels\n",
    "PyPlot.matplotlib[:rc](\"xtick\", labelsize=18)            # X-ticks\n",
    "PyPlot.matplotlib[:rc](\"ytick\", labelsize=18)            # Y-ticks\n",
    "PyPlot.matplotlib[:rc](\"legend\", fontsize=18)            # Legend\n",
    "PyPlot.matplotlib[:rc](\"figure\", titlesize=24)           # Figure title\n",
    "PyPlot.svg(true)\n",
    "# LaTeX preamble packages\n",
    "PyPlot.matplotlib[:rc](\"text.latex\", preamble=\"\\\\usepackage{amsmath}\\\\usepackage{amsfonts}\\\\usepackage{amssymb}\\\\usepackage{lmodern}\")"
   ]
  },
  {
   "cell_type": "code",
   "execution_count": null,
   "metadata": {},
   "outputs": [],
   "source": [
    "# Define the system of ODEs\n",
    "function coupled_eqs!(du, u, p, t)\n",
    "    Δ1, Δ2, g, φ, Δ, κ, η = p\n",
    "    λ1, λ2, λ3, λ4, λ5, λ6, λ7, λ8, α_re, α_im = u\n",
    "    \n",
    "    α = α_re + im * α_im\n",
    "    αc = conj(α)\n",
    "    expp = cos(φ) + im * sin(φ)\n",
    "    expm = conj(expp)\n",
    "    \n",
    "    du[1] = Δ1 * λ2 + im* g * ( λ3*(α - αc) + expm*αc/2 *(-im * λ5 + λ4) + expp*α/2 * (-im * λ5 - λ4) )  # ∂ₜ λ1\n",
    "    du[2] = -Δ1 * λ1 + im* g * ( im* λ3*(α + αc) + expm*αc/2 *(im * λ4 + λ5) + expp*α/2 * (im * λ4 - λ5) )    # ∂ₜ λ2\n",
    "    du[3] = im* g * ( -im* λ2*(α + αc) + λ1 * (αc - α) + expm*αc/2 *(im * λ7 - λ6) + expp*α/2 * (im * λ7 - λ6) )   # ∂ₜ λ3\n",
    "    \n",
    "    du[4] = (Δ1  - Δ2/2) * λ5 + im* g * ( αc/2 * (im*λ7 + λ6) + α/2 * (im*λ7 - λ6) + expm*αc/2 *(-im * λ2 - λ1) + expp*α/2 * (-im * λ2 + λ1) )   # ∂ₜ λ4\n",
    "    du[5] = -(Δ1  - Δ2/2) * λ4 + im* g * ( αc/2 * (-im*λ6 + λ7) + α/2 * (-im*λ6 - λ7) + expm*αc/2 *(im * λ1 - λ2) + expp*α/2 * (-im * λ1 + λ2) )  # ∂ₜ λ5\n",
    "\n",
    "    du[6] = -Δ2/2 * λ7 + im * g * ( αc/2 * (im*λ5 - λ4) + α/2 * (im*λ5 + λ4) + 1/2 * ( expp*α - expm*αc)*(sqrt(3)*λ8 - λ3 ) )  # ∂ₜ λ6 (VERIFY)\n",
    "    du[7] = Δ2/2 * λ6 + im * g * ( αc/2 * (-im*λ4 - λ5) + α/2 * (-im*λ4 + λ5) + 1/2 * ( expp*α + expm*αc)*(sqrt(3)*λ8 - λ3 ) ) # ∂ₜ λ7 (VERIFY)\n",
    "\n",
    "    du[8] = -im*sqrt(3)/2 * g * (αc*expm * (im*λ7-λ6) +α*expp * (im*λ7 + λ6)) #∂t λ8\n",
    "    \n",
    "    dα = (Δ * im - κ / 2) * α - im*g * ( ( λ1 - im*λ2) + expm*(λ6 - im*λ7) ) - η # ∂t α\n",
    "    du[7] = real(dα)  # Re(α_dot)\n",
    "    du[8] = imag(dα)  # Im(α_dot)\n",
    "    end"
   ]
  },
  {
   "cell_type": "code",
   "execution_count": null,
   "metadata": {},
   "outputs": [],
   "source": [
    "# Fixed parameters\n",
    "Δ1, Δ2 = 0, 0\n",
    "g, κ = 0.1, 1.0\n",
    "Δ = 0.0\n",
    "ϕ = 0\n",
    "η = g\n",
    "# Time steps\n",
    "tend = 100;\n",
    "t_list = range(0.0, tend, length=1001);\n",
    "\n",
    "# Initial conditions\n",
    "u0 = [1, 0.0, 0, 0, 0.0, 1, 0, 0, 0, 0];\n"
   ]
  },
  {
   "cell_type": "code",
   "execution_count": null,
   "metadata": {},
   "outputs": [],
   "source": [
    "params = (Δ1, Δ2, g, ϕ, Δ, κ, η)\n",
    "prob = ODEProblem(coupled_eqs!, u0, (0.0, tend), params)\n",
    "sol = solve(prob, Tsit5(), saveat=t_list, reltol=1e-6, abstol=1e-9, maxiters=1e10);"
   ]
  },
  {
   "cell_type": "code",
   "execution_count": null,
   "metadata": {},
   "outputs": [],
   "source": [
    "# Obtain populations of each level in the spin-1 system\n",
    "N0 =  1/3 .- sol[3,:] + 1/sqrt(3) .* sol[8,:];\n",
    "N1 = 1/3 .+ sol[3,:] + 1/sqrt(3) .* sol[8,:];\n",
    "N2 = 1/3 .- 1/sqrt(3) .* sol[8,:];"
   ]
  },
  {
   "cell_type": "code",
   "execution_count": null,
   "metadata": {},
   "outputs": [],
   "source": [
    "Nt = N0 + N1 + N2"
   ]
  },
  {
   "cell_type": "code",
   "execution_count": null,
   "metadata": {},
   "outputs": [],
   "source": [
    "# Plot populations\n",
    "\n",
    "fig, ax = subplots(1, 1, figsize=(8, 6))\n",
    "ax.plot(sol.t, N0, color=lajolla(0.1), label=L\"$N_0$\", lw=2)\n",
    "ax.plot(sol.t, N1, color=lajolla(0.5), label=L\"$N_1$\", lw=2)\n",
    "ax.plot(sol.t, N2, color=lajolla(0.9), label=L\"$N_2$\", lw=2)\n",
    "ax.set_xlabel(L\"$t$\", fontsize=20)\n",
    "ax.set_ylabel(L\"$N_i$\", fontsize=20)\n",
    "fig.tight_layout()\n",
    "display(fig)"
   ]
  },
  {
   "cell_type": "code",
   "execution_count": null,
   "metadata": {},
   "outputs": [],
   "source": [
    "adaga = sol[9,:].^2 .+ sol[10,:].^2 \n",
    "\n",
    "fig, ax = subplots(1, 1, figsize=(8, 6))\n",
    "ax.plot(sol.t, adaga, lw=2)\n",
    "ax.set_xlabel(L\"$t$\", fontsize=20)\n",
    "ax.set_ylabel(L\"$n$\", fontsize=20)\n",
    "fig.tight_layout()\n",
    "display(fig)"
   ]
  }
 ],
 "metadata": {
  "kernelspec": {
   "display_name": "Julia 1.11.1",
   "language": "julia",
   "name": "julia-1.11"
  },
  "language_info": {
   "file_extension": ".jl",
   "mimetype": "application/julia",
   "name": "julia",
   "version": "1.11.1"
  }
 },
 "nbformat": 4,
 "nbformat_minor": 2
}
