{
 "cells": [
  {
   "cell_type": "markdown",
   "id": "16103a4d",
   "metadata": {},
   "source": [
    "Code to generate and analyze the Liouville spectrum of the 3 level atom case"
   ]
  },
  {
   "cell_type": "code",
   "execution_count": 1,
   "id": "ebff7472",
   "metadata": {},
   "outputs": [],
   "source": [
    "import qutip as qt\n",
    "import numpy as np\n",
    "import time\n",
    "import matplotlib.pyplot as plt"
   ]
  },
  {
   "cell_type": "code",
   "execution_count": 2,
   "id": "286c9f8c",
   "metadata": {},
   "outputs": [],
   "source": [
    "plt.rcParams.update({\n",
    "    # LaTeX rendering and font configuration\n",
    "    \"text.usetex\": True,\n",
    "    \"font.family\": \"serif\",\n",
    "    \"font.serif\": [\"Palatino\"],  # mathpazo corresponds to Palatino font\n",
    "    \"font.size\": 18,  # Base font size\n",
    "    \n",
    "    # Font sizes for specific elements\n",
    "    \"axes.titlesize\": 22,        # Axis title\n",
    "    \"axes.labelsize\": 20,         # Axis labels\n",
    "    \"xtick.labelsize\": 18,        # X-ticks\n",
    "    \"ytick.labelsize\": 18,        # Y-ticks\n",
    "    \"legend.fontsize\": 18,        # Legend\n",
    "    \"figure.titlesize\": 24,       # Figure title\n",
    "    \n",
    "    # LaTeX preamble packages\n",
    "    \"text.latex.preamble\": r\"\"\"\n",
    "        \\usepackage{amsmath}\n",
    "        \\usepackage{amsfonts}\n",
    "        \\usepackage{amssymb}\n",
    "        \\usepackage{lmodern}\n",
    "        \\usepackage{mathpazo}\n",
    "    \"\"\"\n",
    "})"
   ]
  },
  {
   "cell_type": "code",
   "execution_count": 7,
   "id": "3d02d491",
   "metadata": {},
   "outputs": [],
   "source": [
    "# Parameters\n",
    "g, κ = 0.1, 1.0\n",
    "Δ1, Δ2 = 2*np.pi * 1.0*g ,-2*np.pi *1.0*g\n",
    "ϕ = 0\n",
    "η = 0.5*g \n",
    "\n",
    "N = 3  # Number of atoms (adjust as needed)\n",
    "\n",
    "\n",
    "Omega = 2*η*g/κ    # Rabi drive strength\n",
    "varphi = np.pi/2   # Phase \n",
    "gamma = 4*g*g/(N*κ)     # Dissipation rate\n",
    "Delta_1 = Δ1    # Detuning of state 1 from 0\n",
    "Delta_2 = -Δ2   # Detuning of state 2 from 0\n",
    "\n",
    "\n",
    "\n",
    "# Single-atom operators\n",
    "sigma_01 = qt.projection(3, 0, 1)  # |0⟩⟨1|\n",
    "sigma_02 = qt.projection(3, 0, 2)  # |0⟩⟨2|\n",
    "sigma_10 = sigma_01.dag()\n",
    "sigma_20 = sigma_02.dag()\n",
    "proj_1 = qt.projection(3, 1, 1)    # |1⟩⟨1|\n",
    "proj_2 = qt.projection(3, 2, 2)    # |2⟩⟨2|\n",
    "id3 = qt.qeye(3)                   # Identity for a single atom\n",
    "\n",
    "# Initialize composite operators for N atoms\n",
    "H_detuning = 0\n",
    "H_drive = 0\n",
    "c_ops = []\n",
    "\n",
    "for i in range(N):\n",
    "    # Detuning terms for atom i\n",
    "    H_detuning_i = (\n",
    "        Delta_1 * qt.tensor([id3]*i + [proj_1] + [id3]*(N-i-1)) +\n",
    "        Delta_2 * qt.tensor([id3]*i + [proj_2] + [id3]*(N-i-1)))\n",
    "    H_detuning += H_detuning_i\n",
    "\n",
    "    # Drive terms for atom i\n",
    "    drive_i = Omega * (\n",
    "        qt.tensor([id3]*i + [sigma_01] + [id3]*(N-i-1)) +\n",
    "        qt.tensor([id3]*i + [sigma_10] + [id3]*(N-i-1)) +\n",
    "        np.exp(-1j * varphi) * qt.tensor([id3]*i + [sigma_02] + [id3]*(N-i-1)) +\n",
    "        np.exp(-1j * varphi) * qt.tensor([id3]*i + [sigma_20] + [id3]*(N-i-1)))\n",
    "    H_drive += drive_i\n",
    "\n",
    "    # Dissipator for atom i\n",
    "    L_i = np.sqrt(gamma) * (\n",
    "        qt.tensor([id3]*i + [sigma_01] + [id3]*(N-i-1)) +\n",
    "        np.exp(-1j * varphi) * qt.tensor([id3]*i + [sigma_02] + [id3]*(N-i-1)))\n",
    "    c_ops.append(L_i)\n",
    "\n",
    "# Full Hamiltonian and Liouvillian\n",
    "H = H_detuning + H_drive\n",
    "liouv = qt.liouvillian(H, c_ops)"
   ]
  },
  {
   "cell_type": "code",
   "execution_count": 10,
   "id": "48d51c66",
   "metadata": {},
   "outputs": [
    {
     "data": {
      "image/png": "[encoded data removed]",
      "text/plain": [
       "<Figure size 800x600 with 1 Axes>"
      ]
     },
     "metadata": {},
     "output_type": "display_data"
    }
   ],
   "source": [
    "eigenvalues = liouv.eigenenergies(sparse=True, sort='high',eigvals=10, tol=1e-3)\n",
    "sorted_indices = np.argsort(-np.real(eigenvalues))\n",
    "eigenvalues = eigenvalues[sorted_indices]\n",
    "\n",
    "# Plot eigenvalues\n",
    "real_parts = np.real(eigenvalues)\n",
    "imag_parts = np.imag(eigenvalues)\n",
    "\n",
    "# Create scatter plot\n",
    "plt.figure(figsize=(8, 6))\n",
    "plt.scatter(real_parts, imag_parts, color='black', label='Eigenvalues', s=50)\n",
    "\n",
    "# Highlight the steady state (eigenvalue closest to zero)\n",
    "# steady_state_idx = np.argmin(np.abs(real_parts))\n",
    "# plt.scatter(real_parts[steady_state_idx], imag_parts[steady_state_idx], \n",
    "#             color='red', s=100, label='Steady State', marker='*')\n",
    "\n",
    "plt.xlabel(r'Re($\\lambda$)')\n",
    "plt.ylabel(r'Im($\\lambda$)')\n",
    "plt.xlim(-1e-4,0)\n",
    "\n",
    "\n",
    "plt.show()"
   ]
  },
  {
   "cell_type": "code",
   "execution_count": 57,
   "id": "e772c55f",
   "metadata": {},
   "outputs": [
    {
     "data": {
      "text/plain": [
       "np.float64(-0.004996196481075942)"
      ]
     },
     "execution_count": 57,
     "metadata": {},
     "output_type": "execute_result"
    }
   ],
   "source": [
    "np.real(eigenvalues[1])"
   ]
  },
  {
   "cell_type": "markdown",
   "id": "0dad5ac8",
   "metadata": {},
   "source": [
    "Scaling of Liouvillian gap"
   ]
  },
  {
   "cell_type": "code",
   "execution_count": 11,
   "id": "16417267",
   "metadata": {},
   "outputs": [
    {
     "ename": "KeyboardInterrupt",
     "evalue": "",
     "output_type": "error",
     "traceback": [
      "\u001b[1;31m---------------------------------------------------------------------------\u001b[0m",
      "\u001b[1;31mKeyboardInterrupt\u001b[0m                         Traceback (most recent call last)",
      "Cell \u001b[1;32mIn[11], line 47\u001b[0m\n\u001b[0;32m     45\u001b[0m \u001b[38;5;66;03m# Sweep N = 1…N\u001b[39;00m\n\u001b[0;32m     46\u001b[0m Ns   \u001b[38;5;241m=\u001b[39m np\u001b[38;5;241m.\u001b[39marange(\u001b[38;5;241m1\u001b[39m,\u001b[38;5;241m8\u001b[39m)\n\u001b[1;32m---> 47\u001b[0m gaps \u001b[38;5;241m=\u001b[39m np\u001b[38;5;241m.\u001b[39marray([dominant_gap_real(N) \u001b[38;5;28;01mfor\u001b[39;00m N \u001b[38;5;129;01min\u001b[39;00m Ns])\n\u001b[0;32m     49\u001b[0m np\u001b[38;5;241m.\u001b[39msavetxt(\u001b[38;5;124m'\u001b[39m\u001b[38;5;124mgaps.txt\u001b[39m\u001b[38;5;124m'\u001b[39m, gaps)\n",
      "Cell \u001b[1;32mIn[11], line 47\u001b[0m, in \u001b[0;36m<listcomp>\u001b[1;34m(.0)\u001b[0m\n\u001b[0;32m     45\u001b[0m \u001b[38;5;66;03m# Sweep N = 1…N\u001b[39;00m\n\u001b[0;32m     46\u001b[0m Ns   \u001b[38;5;241m=\u001b[39m np\u001b[38;5;241m.\u001b[39marange(\u001b[38;5;241m1\u001b[39m,\u001b[38;5;241m8\u001b[39m)\n\u001b[1;32m---> 47\u001b[0m gaps \u001b[38;5;241m=\u001b[39m np\u001b[38;5;241m.\u001b[39marray([\u001b[43mdominant_gap_real\u001b[49m\u001b[43m(\u001b[49m\u001b[43mN\u001b[49m\u001b[43m)\u001b[49m \u001b[38;5;28;01mfor\u001b[39;00m N \u001b[38;5;129;01min\u001b[39;00m Ns])\n\u001b[0;32m     49\u001b[0m np\u001b[38;5;241m.\u001b[39msavetxt(\u001b[38;5;124m'\u001b[39m\u001b[38;5;124mgaps.txt\u001b[39m\u001b[38;5;124m'\u001b[39m, gaps)\n",
      "Cell \u001b[1;32mIn[11], line 38\u001b[0m, in \u001b[0;36mdominant_gap_real\u001b[1;34m(N)\u001b[0m\n\u001b[0;32m     36\u001b[0m L \u001b[38;5;241m=\u001b[39m qt\u001b[38;5;241m.\u001b[39mliouvillian(H_det \u001b[38;5;241m+\u001b[39m H_drv, c_ops)\n\u001b[0;32m     37\u001b[0m \u001b[38;5;66;03m# ask for a few smallest-in-magnitude eigenvalues\u001b[39;00m\n\u001b[1;32m---> 38\u001b[0m eigs \u001b[38;5;241m=\u001b[39m \u001b[43mL\u001b[49m\u001b[38;5;241;43m.\u001b[39;49m\u001b[43meigenenergies\u001b[49m\u001b[43m(\u001b[49m\u001b[43msparse\u001b[49m\u001b[38;5;241;43m=\u001b[39;49m\u001b[38;5;28;43;01mTrue\u001b[39;49;00m\u001b[43m,\u001b[49m\u001b[43m \u001b[49m\u001b[43msort\u001b[49m\u001b[38;5;241;43m=\u001b[39;49m\u001b[38;5;124;43m'\u001b[39;49m\u001b[38;5;124;43mhigh\u001b[39;49m\u001b[38;5;124;43m'\u001b[39;49m\u001b[43m,\u001b[49m\u001b[43meigvals\u001b[49m\u001b[38;5;241;43m=\u001b[39;49m\u001b[43mN\u001b[49m\u001b[38;5;241;43m+\u001b[39;49m\u001b[38;5;241;43m1\u001b[39;49m\u001b[43m,\u001b[49m\u001b[43m \u001b[49m\u001b[43mtol\u001b[49m\u001b[38;5;241;43m=\u001b[39;49m\u001b[38;5;241;43m1e-3\u001b[39;49m\u001b[43m)\u001b[49m\n\u001b[0;32m     39\u001b[0m \u001b[38;5;66;03m# sort by descending real part: zero mode first\u001b[39;00m\n\u001b[0;32m     40\u001b[0m idx  \u001b[38;5;241m=\u001b[39m np\u001b[38;5;241m.\u001b[39margsort(\u001b[38;5;241m-\u001b[39mnp\u001b[38;5;241m.\u001b[39mreal(eigs))\n",
      "File \u001b[1;32mc:\\Users\\admin\\anaconda3\\envs\\data_vis\\lib\\site-packages\\qutip\\core\\qobj.py:1574\u001b[0m, in \u001b[0;36mQobj.eigenenergies\u001b[1;34m(self, sparse, sort, eigvals, tol, maxiter)\u001b[0m\n\u001b[0;32m   1572\u001b[0m \u001b[38;5;66;03m# TODO: consider another way of handling the dispatch here.\u001b[39;00m\n\u001b[0;32m   1573\u001b[0m \u001b[38;5;28;01mif\u001b[39;00m \u001b[38;5;28misinstance\u001b[39m(\u001b[38;5;28mself\u001b[39m\u001b[38;5;241m.\u001b[39mdata, _data\u001b[38;5;241m.\u001b[39mCSR) \u001b[38;5;129;01mand\u001b[39;00m sparse:\n\u001b[1;32m-> 1574\u001b[0m     \u001b[38;5;28;01mreturn\u001b[39;00m \u001b[43m_data\u001b[49m\u001b[38;5;241;43m.\u001b[39;49m\u001b[43meigs_csr\u001b[49m\u001b[43m(\u001b[49m\u001b[38;5;28;43mself\u001b[39;49m\u001b[38;5;241;43m.\u001b[39;49m\u001b[43mdata\u001b[49m\u001b[43m,\u001b[49m\n\u001b[0;32m   1575\u001b[0m \u001b[43m                          \u001b[49m\u001b[43mvecs\u001b[49m\u001b[38;5;241;43m=\u001b[39;49m\u001b[38;5;28;43;01mFalse\u001b[39;49;00m\u001b[43m,\u001b[49m\n\u001b[0;32m   1576\u001b[0m \u001b[43m                          \u001b[49m\u001b[43misherm\u001b[49m\u001b[38;5;241;43m=\u001b[39;49m\u001b[38;5;28;43mself\u001b[39;49m\u001b[38;5;241;43m.\u001b[39;49m\u001b[43m_isherm\u001b[49m\u001b[43m,\u001b[49m\n\u001b[0;32m   1577\u001b[0m \u001b[43m                          \u001b[49m\u001b[43msort\u001b[49m\u001b[38;5;241;43m=\u001b[39;49m\u001b[43msort\u001b[49m\u001b[43m,\u001b[49m\u001b[43m \u001b[49m\u001b[43meigvals\u001b[49m\u001b[38;5;241;43m=\u001b[39;49m\u001b[43meigvals\u001b[49m\u001b[43m,\u001b[49m\n\u001b[0;32m   1578\u001b[0m \u001b[43m                          \u001b[49m\u001b[43mtol\u001b[49m\u001b[38;5;241;43m=\u001b[39;49m\u001b[43mtol\u001b[49m\u001b[43m,\u001b[49m\u001b[43m \u001b[49m\u001b[43mmaxiter\u001b[49m\u001b[38;5;241;43m=\u001b[39;49m\u001b[43mmaxiter\u001b[49m\u001b[43m)\u001b[49m\n\u001b[0;32m   1579\u001b[0m \u001b[38;5;28;01melif\u001b[39;00m \u001b[38;5;28misinstance\u001b[39m(\u001b[38;5;28mself\u001b[39m\u001b[38;5;241m.\u001b[39mdata, (_data\u001b[38;5;241m.\u001b[39mCSR, _data\u001b[38;5;241m.\u001b[39mDia)):\n\u001b[0;32m   1580\u001b[0m     \u001b[38;5;28;01mreturn\u001b[39;00m _data\u001b[38;5;241m.\u001b[39meigs(_data\u001b[38;5;241m.\u001b[39mto(_data\u001b[38;5;241m.\u001b[39mDense, \u001b[38;5;28mself\u001b[39m\u001b[38;5;241m.\u001b[39mdata),\n\u001b[0;32m   1581\u001b[0m                       vecs\u001b[38;5;241m=\u001b[39m\u001b[38;5;28;01mFalse\u001b[39;00m, isherm\u001b[38;5;241m=\u001b[39m\u001b[38;5;28mself\u001b[39m\u001b[38;5;241m.\u001b[39m_isherm,\n\u001b[0;32m   1582\u001b[0m                       sort\u001b[38;5;241m=\u001b[39msort, eigvals\u001b[38;5;241m=\u001b[39meigvals)\n",
      "File \u001b[1;32mc:\\Users\\admin\\anaconda3\\envs\\data_vis\\lib\\site-packages\\qutip\\core\\data\\eigen.py:237\u001b[0m, in \u001b[0;36meigs_csr\u001b[1;34m(data, isherm, vecs, sort, eigvals, tol, maxiter)\u001b[0m\n\u001b[0;32m    235\u001b[0m eigvals, num_large, num_small \u001b[38;5;241m=\u001b[39m _eigs_fix_eigvals(data, eigvals, sort)\n\u001b[0;32m    236\u001b[0m isherm \u001b[38;5;241m=\u001b[39m isherm \u001b[38;5;28;01mif\u001b[39;00m isherm \u001b[38;5;129;01mis\u001b[39;00m \u001b[38;5;129;01mnot\u001b[39;00m \u001b[38;5;28;01mNone\u001b[39;00m \u001b[38;5;28;01melse\u001b[39;00m _isherm(data)\n\u001b[1;32m--> 237\u001b[0m evals, evecs \u001b[38;5;241m=\u001b[39m \u001b[43m_eigs_csr\u001b[49m\u001b[43m(\u001b[49m\u001b[43mdata\u001b[49m\u001b[38;5;241;43m.\u001b[39;49m\u001b[43mas_scipy\u001b[49m\u001b[43m(\u001b[49m\u001b[43m)\u001b[49m\u001b[43m,\u001b[49m\u001b[43m \u001b[49m\u001b[43misherm\u001b[49m\u001b[43m,\u001b[49m\u001b[43m \u001b[49m\u001b[43mvecs\u001b[49m\u001b[43m,\u001b[49m\u001b[43m \u001b[49m\u001b[43meigvals\u001b[49m\u001b[43m,\u001b[49m\n\u001b[0;32m    238\u001b[0m \u001b[43m                         \u001b[49m\u001b[43mnum_large\u001b[49m\u001b[43m,\u001b[49m\u001b[43m \u001b[49m\u001b[43mnum_small\u001b[49m\u001b[43m,\u001b[49m\u001b[43m \u001b[49m\u001b[43mtol\u001b[49m\u001b[43m,\u001b[49m\u001b[43m \u001b[49m\u001b[43mmaxiter\u001b[49m\u001b[43m)\u001b[49m\n\u001b[0;32m    240\u001b[0m \u001b[38;5;28;01mif\u001b[39;00m vecs \u001b[38;5;129;01mand\u001b[39;00m isherm:\n\u001b[0;32m    241\u001b[0m     i \u001b[38;5;241m=\u001b[39m \u001b[38;5;241m0\u001b[39m\n",
      "File \u001b[1;32mc:\\Users\\admin\\anaconda3\\envs\\data_vis\\lib\\site-packages\\qutip\\core\\data\\eigen.py:155\u001b[0m, in \u001b[0;36m_eigs_csr\u001b[1;34m(data, isherm, vecs, eigvals, num_large, num_small, tol, maxiter)\u001b[0m\n\u001b[0;32m    153\u001b[0m \u001b[38;5;28;01melse\u001b[39;00m:\n\u001b[0;32m    154\u001b[0m     \u001b[38;5;28;01mif\u001b[39;00m num_large \u001b[38;5;241m>\u001b[39m \u001b[38;5;241m0\u001b[39m:\n\u001b[1;32m--> 155\u001b[0m         big_vals \u001b[38;5;241m=\u001b[39m \u001b[43msp\u001b[49m\u001b[38;5;241;43m.\u001b[39;49m\u001b[43mlinalg\u001b[49m\u001b[38;5;241;43m.\u001b[39;49m\u001b[43meigs\u001b[49m\u001b[43m(\u001b[49m\n\u001b[0;32m    156\u001b[0m \u001b[43m            \u001b[49m\u001b[43mdata\u001b[49m\u001b[43m,\u001b[49m\u001b[43m \u001b[49m\u001b[43mk\u001b[49m\u001b[38;5;241;43m=\u001b[39;49m\u001b[43mnum_large\u001b[49m\u001b[43m,\u001b[49m\u001b[43m \u001b[49m\u001b[43mwhich\u001b[49m\u001b[38;5;241;43m=\u001b[39;49m\u001b[38;5;124;43m'\u001b[39;49m\u001b[38;5;124;43mLR\u001b[39;49m\u001b[38;5;124;43m'\u001b[39;49m\u001b[43m,\u001b[49m\n\u001b[0;32m    157\u001b[0m \u001b[43m            \u001b[49m\u001b[43mreturn_eigenvectors\u001b[49m\u001b[38;5;241;43m=\u001b[39;49m\u001b[38;5;28;43;01mFalse\u001b[39;49;00m\u001b[43m,\u001b[49m\u001b[43m \u001b[49m\u001b[43mtol\u001b[49m\u001b[38;5;241;43m=\u001b[39;49m\u001b[43mtol\u001b[49m\u001b[43m,\u001b[49m\u001b[43m \u001b[49m\u001b[43mmaxiter\u001b[49m\u001b[38;5;241;43m=\u001b[39;49m\u001b[43mmaxiter\u001b[49m\u001b[43m)\u001b[49m\n\u001b[0;32m    158\u001b[0m     \u001b[38;5;28;01mif\u001b[39;00m num_small \u001b[38;5;241m>\u001b[39m \u001b[38;5;241m0\u001b[39m:\n\u001b[0;32m    159\u001b[0m         small_vals \u001b[38;5;241m=\u001b[39m sp\u001b[38;5;241m.\u001b[39mlinalg\u001b[38;5;241m.\u001b[39meigs(\n\u001b[0;32m    160\u001b[0m             data, k\u001b[38;5;241m=\u001b[39mnum_small, which\u001b[38;5;241m=\u001b[39m\u001b[38;5;124m'\u001b[39m\u001b[38;5;124mSR\u001b[39m\u001b[38;5;124m'\u001b[39m,\n\u001b[0;32m    161\u001b[0m             return_eigenvectors\u001b[38;5;241m=\u001b[39m\u001b[38;5;28;01mFalse\u001b[39;00m, tol\u001b[38;5;241m=\u001b[39mtol, maxiter\u001b[38;5;241m=\u001b[39mmaxiter)\n",
      "File \u001b[1;32mc:\\Users\\admin\\anaconda3\\envs\\data_vis\\lib\\site-packages\\scipy\\sparse\\linalg\\_eigen\\arpack\\arpack.py:1355\u001b[0m, in \u001b[0;36meigs\u001b[1;34m(A, k, M, sigma, which, v0, ncv, maxiter, tol, return_eigenvectors, Minv, OPinv, OPpart)\u001b[0m\n\u001b[0;32m   1353\u001b[0m \u001b[38;5;28;01mwith\u001b[39;00m _ARPACK_LOCK:\n\u001b[0;32m   1354\u001b[0m     \u001b[38;5;28;01mwhile\u001b[39;00m \u001b[38;5;129;01mnot\u001b[39;00m params\u001b[38;5;241m.\u001b[39mconverged:\n\u001b[1;32m-> 1355\u001b[0m         \u001b[43mparams\u001b[49m\u001b[38;5;241;43m.\u001b[39;49m\u001b[43miterate\u001b[49m\u001b[43m(\u001b[49m\u001b[43m)\u001b[49m\n\u001b[0;32m   1357\u001b[0m     \u001b[38;5;28;01mreturn\u001b[39;00m params\u001b[38;5;241m.\u001b[39mextract(return_eigenvectors)\n",
      "File \u001b[1;32mc:\\Users\\admin\\anaconda3\\envs\\data_vis\\lib\\site-packages\\scipy\\sparse\\linalg\\_eigen\\arpack\\arpack.py:730\u001b[0m, in \u001b[0;36m_UnsymmetricArpackParams.iterate\u001b[1;34m(self)\u001b[0m\n\u001b[0;32m    726\u001b[0m     \u001b[38;5;28mself\u001b[39m\u001b[38;5;241m.\u001b[39mido, \u001b[38;5;28mself\u001b[39m\u001b[38;5;241m.\u001b[39mtol, \u001b[38;5;28mself\u001b[39m\u001b[38;5;241m.\u001b[39mresid, \u001b[38;5;28mself\u001b[39m\u001b[38;5;241m.\u001b[39mv, \\\n\u001b[0;32m    727\u001b[0m         \u001b[38;5;28mself\u001b[39m\u001b[38;5;241m.\u001b[39miparam, \u001b[38;5;28mself\u001b[39m\u001b[38;5;241m.\u001b[39mipntr, \u001b[38;5;28mself\u001b[39m\u001b[38;5;241m.\u001b[39minfo \u001b[38;5;241m=\u001b[39m results\n\u001b[0;32m    729\u001b[0m \u001b[38;5;28;01melse\u001b[39;00m:\n\u001b[1;32m--> 730\u001b[0m     results \u001b[38;5;241m=\u001b[39m \u001b[38;5;28;43mself\u001b[39;49m\u001b[38;5;241;43m.\u001b[39;49m\u001b[43m_arpack_solver\u001b[49m\u001b[43m(\u001b[49m\u001b[38;5;28;43mself\u001b[39;49m\u001b[38;5;241;43m.\u001b[39;49m\u001b[43mido\u001b[49m\u001b[43m,\u001b[49m\u001b[43m \u001b[49m\u001b[38;5;28;43mself\u001b[39;49m\u001b[38;5;241;43m.\u001b[39;49m\u001b[43mbmat\u001b[49m\u001b[43m,\u001b[49m\u001b[43m \u001b[49m\u001b[38;5;28;43mself\u001b[39;49m\u001b[38;5;241;43m.\u001b[39;49m\u001b[43mwhich\u001b[49m\u001b[43m,\u001b[49m\u001b[43m \u001b[49m\u001b[38;5;28;43mself\u001b[39;49m\u001b[38;5;241;43m.\u001b[39;49m\u001b[43mk\u001b[49m\u001b[43m,\u001b[49m\n\u001b[0;32m    731\u001b[0m \u001b[43m                                  \u001b[49m\u001b[38;5;28;43mself\u001b[39;49m\u001b[38;5;241;43m.\u001b[39;49m\u001b[43mtol\u001b[49m\u001b[43m,\u001b[49m\u001b[43m \u001b[49m\u001b[38;5;28;43mself\u001b[39;49m\u001b[38;5;241;43m.\u001b[39;49m\u001b[43mresid\u001b[49m\u001b[43m,\u001b[49m\u001b[43m \u001b[49m\u001b[38;5;28;43mself\u001b[39;49m\u001b[38;5;241;43m.\u001b[39;49m\u001b[43mv\u001b[49m\u001b[43m,\u001b[49m\u001b[43m \u001b[49m\u001b[38;5;28;43mself\u001b[39;49m\u001b[38;5;241;43m.\u001b[39;49m\u001b[43miparam\u001b[49m\u001b[43m,\u001b[49m\n\u001b[0;32m    732\u001b[0m \u001b[43m                                  \u001b[49m\u001b[38;5;28;43mself\u001b[39;49m\u001b[38;5;241;43m.\u001b[39;49m\u001b[43mipntr\u001b[49m\u001b[43m,\u001b[49m\u001b[43m \u001b[49m\u001b[38;5;28;43mself\u001b[39;49m\u001b[38;5;241;43m.\u001b[39;49m\u001b[43mworkd\u001b[49m\u001b[43m,\u001b[49m\u001b[43m \u001b[49m\u001b[38;5;28;43mself\u001b[39;49m\u001b[38;5;241;43m.\u001b[39;49m\u001b[43mworkl\u001b[49m\u001b[43m,\u001b[49m\n\u001b[0;32m    733\u001b[0m \u001b[43m                                  \u001b[49m\u001b[38;5;28;43mself\u001b[39;49m\u001b[38;5;241;43m.\u001b[39;49m\u001b[43mrwork\u001b[49m\u001b[43m,\u001b[49m\u001b[43m \u001b[49m\u001b[38;5;28;43mself\u001b[39;49m\u001b[38;5;241;43m.\u001b[39;49m\u001b[43minfo\u001b[49m\u001b[43m)\u001b[49m\n\u001b[0;32m    734\u001b[0m     \u001b[38;5;28mself\u001b[39m\u001b[38;5;241m.\u001b[39mido, \u001b[38;5;28mself\u001b[39m\u001b[38;5;241m.\u001b[39mtol, \u001b[38;5;28mself\u001b[39m\u001b[38;5;241m.\u001b[39mresid, \u001b[38;5;28mself\u001b[39m\u001b[38;5;241m.\u001b[39mv, \\\n\u001b[0;32m    735\u001b[0m         \u001b[38;5;28mself\u001b[39m\u001b[38;5;241m.\u001b[39miparam, \u001b[38;5;28mself\u001b[39m\u001b[38;5;241m.\u001b[39mipntr, \u001b[38;5;28mself\u001b[39m\u001b[38;5;241m.\u001b[39minfo \u001b[38;5;241m=\u001b[39m results\n\u001b[0;32m    738\u001b[0m xslice \u001b[38;5;241m=\u001b[39m \u001b[38;5;28mslice\u001b[39m(\u001b[38;5;28mself\u001b[39m\u001b[38;5;241m.\u001b[39mipntr[\u001b[38;5;241m0\u001b[39m] \u001b[38;5;241m-\u001b[39m \u001b[38;5;241m1\u001b[39m, \u001b[38;5;28mself\u001b[39m\u001b[38;5;241m.\u001b[39mipntr[\u001b[38;5;241m0\u001b[39m] \u001b[38;5;241m-\u001b[39m \u001b[38;5;241m1\u001b[39m \u001b[38;5;241m+\u001b[39m \u001b[38;5;28mself\u001b[39m\u001b[38;5;241m.\u001b[39mn)\n",
      "\u001b[1;31mKeyboardInterrupt\u001b[0m: "
     ]
    }
   ],
   "source": [
    "def dominant_gap_real(N):\n",
    "    \"\"\"\n",
    "    Build the N-atom Liouvillian, compute its low-lying spectrum,\n",
    "    and return the real part of the first nonzero eigenvalue (the gap).\n",
    "    \"\"\"\n",
    "    gamma = 4*g*g/(N*κ)     # Dissipation rate\n",
    "\n",
    "    # Single-atom operators\n",
    "    id3     = qt.qeye(3)\n",
    "    s01, s02 = qt.projection(3,0,1), qt.projection(3,0,2)\n",
    "    s10, s20 = s01.dag(), s02.dag()\n",
    "    p1, p2   = qt.projection(3,1,1), qt.projection(3,2,2)\n",
    "\n",
    "    H_det = 0\n",
    "    H_drv = 0\n",
    "    c_ops = []\n",
    "\n",
    "    for i in range(N):\n",
    "        # Detuning\n",
    "        H_det += (Δ1 * qt.tensor([id3]*i + [p1]   + [id3]*(N-i-1))\n",
    "                + Δ2 * qt.tensor([id3]*i + [p2]   + [id3]*(N-i-1)))\n",
    "        # Coherent drive\n",
    "        H_drv += Omega * (\n",
    "            qt.tensor([id3]*i + [s01] + [id3]*(N-i-1))\n",
    "          + qt.tensor([id3]*i + [s10] + [id3]*(N-i-1))\n",
    "          + np.exp(-1j*varphi)*qt.tensor([id3]*i + [s02] + [id3]*(N-i-1))\n",
    "          + np.exp(-1j*varphi)*qt.tensor([id3]*i + [s20] + [id3]*(N-i-1))\n",
    "        )\n",
    "        # Collective jump\n",
    "        L = np.sqrt(gamma) * (\n",
    "            qt.tensor([id3]*i + [s01] + [id3]*(N-i-1))\n",
    "          + np.exp(-1j*varphi)*qt.tensor([id3]*i + [s02] + [id3]*(N-i-1))\n",
    "        )\n",
    "        c_ops.append(L)\n",
    "\n",
    "    L = qt.liouvillian(H_det + H_drv, c_ops)\n",
    "    # ask for a few smallest-in-magnitude eigenvalues\n",
    "    eigs = L.eigenenergies(sparse=True, sort='high',eigvals=N+1, tol=1e-3)\n",
    "    # sort by descending real part: zero mode first\n",
    "    idx  = np.argsort(-np.real(eigs))\n",
    "    eigs = eigs[idx]\n",
    "    # return the gap (second entry)\n",
    "    return -1*np.real(eigs[1])\n",
    "\n",
    "# Sweep N = 1…N\n",
    "Ns   = np.arange(1,8)\n",
    "gaps = np.array([dominant_gap_real(N) for N in Ns])\n",
    "\n",
    "np.savetxt('gaps.txt', gaps)"
   ]
  },
  {
   "cell_type": "code",
   "execution_count": 45,
   "id": "e7f74f87",
   "metadata": {},
   "outputs": [
    {
     "name": "stdout",
     "output_type": "stream",
     "text": [
      "Fitted parameter:\n",
      "  A = 0.019978 ± 0.000009\n"
     ]
    }
   ],
   "source": [
    "from scipy.optimize import curve_fit\n",
    "def inv_model(x, A):\n",
    "    return A / x\n",
    "\n",
    "# Initial guess for A\n",
    "initial_guess = [gaps[0] * x[0]]  # ~0.01998\n",
    "\n",
    "# Perform the curve fitting\n",
    "popt, pcov = curve_fit(inv_model, x, gaps, p0=initial_guess)\n",
    "A_fit = popt[0]\n",
    "perr = np.sqrt(np.diag(pcov))[0]\n",
    "\n",
    "# Print fitted parameter and its uncertainty\n",
    "print(f\"Fitted parameter:\")\n",
    "print(f\"  A = {A_fit:.6f} ± {perr:.6f}\")\n",
    "\n",
    "# Generate smooth curve for plotting\n",
    "x_fit = np.linspace(x.min(), x.max(), 200)\n",
    "fit = inv_model(x_fit, A_fit)"
   ]
  },
  {
   "cell_type": "code",
   "execution_count": 63,
   "id": "1fc0d1cb",
   "metadata": {},
   "outputs": [
    {
     "data": {
      "image/png": "[encoded data removed]",
      "text/plain": [
       "<Figure size 800x600 with 1 Axes>"
      ]
     },
     "metadata": {},
     "output_type": "display_data"
    }
   ],
   "source": [
    "# Extract gaps text file\n",
    "gaps = np.loadtxt('gaps.txt')\n",
    "\n",
    "\n",
    "plt.figure(figsize=(8,6))\n",
    "plt.plot(x_fit, fit*1e3, linestyle='--', color='grey',label=r'$1/N$ fit', lw=3)\n",
    "plt.scatter(Ns, gaps*1e3, color='black', s=100, label='Data')\n",
    "plt.xlabel(r'System size $N$')\n",
    "plt.ylabel(r'$\\mathrm{Liouvillian\\; gap } (\\times10^{-3})$')\n",
    "# plt.ylabel(r'$\\mathrm{Liouvillian\\; gap }$')\n",
    "plt.legend()\n",
    "plt.yscale('log')\n",
    "plt.yticks([50, 10, 1], [50, 10, 1])\n",
    "# plt.xticks([1,2,3,4,5,6,7])\n",
    "plt.tight_layout()\n",
    "plt.show()"
   ]
  },
  {
   "cell_type": "code",
   "execution_count": 41,
   "id": "9ee760a8",
   "metadata": {},
   "outputs": [
    {
     "data": {
      "text/plain": [
       "array([0.01998478, 0.00999239, 0.00663282, 0.0049962 , 0.00399696,\n",
       "       0.0033308 , 0.00285497])"
      ]
     },
     "execution_count": 41,
     "metadata": {},
     "output_type": "execute_result"
    }
   ],
   "source": [
    "gaps"
   ]
  },
  {
   "cell_type": "code",
   "execution_count": 42,
   "id": "9c506cdc",
   "metadata": {},
   "outputs": [
    {
     "data": {
      "text/plain": [
       "array([1, 2, 3, 4, 5, 6, 7])"
      ]
     },
     "execution_count": 42,
     "metadata": {},
     "output_type": "execute_result"
    }
   ],
   "source": [
    "x"
   ]
  },
  {
   "cell_type": "code",
   "execution_count": 221,
   "id": "c8751e83",
   "metadata": {},
   "outputs": [
    {
     "name": "stdout",
     "output_type": "stream",
     "text": [
      "[ 6.65755884e-17+4.74443016e-17j -9.99746183e-03+5.12319451e-11j\n",
      " -9.99746183e-03+5.12318645e-11j -1.48145950e-02+6.19179375e-01j\n",
      " -1.48145950e-02+6.19179375e-01j -1.48148361e-02-6.36508017e-01j\n",
      " -1.48148361e-02-6.36508017e-01j -1.48354173e-02+1.93727165e-02j\n",
      " -1.48354173e-02+1.93727165e-02j -1.51645848e-02-1.93729192e-02j\n",
      " -1.51645848e-02-1.93729192e-02j -1.51826244e-02-6.19173347e-01j\n",
      " -1.51826244e-02-6.19173347e-01j -1.51828656e-02+6.36502314e-01j\n",
      " -1.51828656e-02+6.36502314e-01j -1.99949237e-02+1.02464019e-10j\n",
      " -2.00076150e-02-1.21458044e-07j -2.00076150e-02-1.21458044e-07j\n",
      " -2.48120568e-02+6.19179375e-01j -2.48120568e-02+6.19179375e-01j\n",
      " -2.48122980e-02-6.36508017e-01j -2.48122980e-02-6.36508017e-01j\n",
      " -2.48328791e-02+1.93727165e-02j -2.48328791e-02+1.93727165e-02j\n",
      " -2.51620466e-02-1.93729192e-02j -2.51620466e-02-1.93729192e-02j\n",
      " -2.51800862e-02-6.19173347e-01j -2.51800862e-02-6.19173347e-01j\n",
      " -2.51803274e-02+6.36502314e-01j -2.51803274e-02+6.36502314e-01j\n",
      " -2.96291899e-02+1.23835875e+00j -2.96294311e-02-1.73286424e-02j\n",
      " -2.96294311e-02-1.73286424e-02j -2.96296722e-02-1.27301603e+00j\n",
      " -2.96500123e-02+6.38552091e-01j -2.96500123e-02+6.38552091e-01j\n",
      " -2.96502534e-02-6.17135301e-01j -2.96502534e-02-6.17135301e-01j\n",
      " -2.96708346e-02+3.87454329e-02j -2.99791798e-02+5.99806456e-01j\n",
      " -2.99791798e-02+5.99806456e-01j -2.99794209e-02-6.55880936e-01j\n",
      " -2.99794209e-02-6.55880936e-01j -2.99972194e-02+6.02772245e-06j\n",
      " -2.99972194e-02+6.02772245e-06j -2.99974605e-02-1.25568136e+00j\n",
      " -2.99974605e-02-1.25568136e+00j -2.99974605e-02+1.25568169e+00j\n",
      " -2.99974605e-02+1.25568169e+00j -2.99977017e-02-5.70356622e-06j\n",
      " -2.99977017e-02-5.70356622e-06j -3.00000021e-02-2.02749416e-07j\n",
      " -3.00000021e-02-2.02749416e-07j -3.00050768e-02-1.21406812e-07j\n",
      " -3.00050768e-02-1.21406812e-07j -3.00180417e-02-5.99800631e-01j\n",
      " -3.00180417e-02-5.99800631e-01j -3.00182829e-02+6.55875030e-01j\n",
      " -3.00182829e-02+6.55875030e-01j -3.03291696e-02-3.87458384e-02j\n",
      " -3.03472092e-02-6.38546266e-01j -3.03472092e-02-6.38546266e-01j\n",
      " -3.03474504e-02+6.17129394e-01j -3.03474504e-02+6.17129394e-01j\n",
      " -3.03652488e-02-1.23834669e+00j -3.03654900e-02+1.73289665e-02j\n",
      " -3.03654900e-02+1.73289665e-02j -3.03657311e-02+1.27300463e+00j\n",
      " -3.48222100e-02+6.19179253e-01j -3.48222100e-02+6.19179253e-01j\n",
      " -3.48224511e-02-6.36508139e-01j -3.48224511e-02-6.36508139e-01j\n",
      " -3.48430323e-02+1.93725950e-02j -3.48430323e-02+1.93725950e-02j\n",
      " -3.51721998e-02-1.93730407e-02j -3.51721998e-02-1.93730407e-02j\n",
      " -3.51902394e-02-6.19173469e-01j -3.51902394e-02-6.19173469e-01j\n",
      " -3.51904806e-02+6.36502192e-01j -3.51904806e-02+6.36502192e-01j\n",
      " -4.00152300e-02-2.42916088e-07j]\n"
     ]
    }
   ],
   "source": [
    "# print(np.real(eigenvalues))\n",
    "# print(np.imag(eigenvalues))\n",
    "\n",
    "print(eigenvalues)"
   ]
  },
  {
   "cell_type": "code",
   "execution_count": 181,
   "id": "2c6e21d3",
   "metadata": {},
   "outputs": [],
   "source": [
    "eigs, eigenvectors = liouv.eigenstates()\n",
    "# sorted_indices = np.argsort(-np.real(eigenvectors))\n",
    "# eigenvectors = eigenvectors[sorted_indices]"
   ]
  },
  {
   "cell_type": "code",
   "execution_count": 194,
   "id": "084b5805",
   "metadata": {},
   "outputs": [
    {
     "data": {
      "text/plain": [
       "np.complex128(-2.2724877535296173e-16+0.628318530717958j)"
      ]
     },
     "execution_count": 194,
     "metadata": {},
     "output_type": "execute_result"
    }
   ],
   "source": [
    "eigs[-4]"
   ]
  },
  {
   "cell_type": "code",
   "execution_count": 172,
   "id": "7282bf08",
   "metadata": {},
   "outputs": [],
   "source": [
    "sorted_indices = np.argsort(-np.real(eigs))\n",
    "eigssort = eigs[sorted_indices]"
   ]
  },
  {
   "cell_type": "code",
   "execution_count": null,
   "id": "ba517214",
   "metadata": {},
   "outputs": [
    {
     "data": {
      "text/latex": [
       "Quantum object: dims=[[3], [3]], shape=(3, 3), type='oper', dtype=Dense, isherm=False$$\\left(\\begin{array}{cc}4.354\\times10^{ -16 } & 0.707 & -0.707j\\\\2.740\\times10^{ -16 } & -0.011 & 0.011j\\\\-5.320\\times10^{ -17 } & 0.011j & 0.011\\end{array}\\right)$$"
      ],
      "text/plain": [
       "Quantum object: dims=[[3], [3]], shape=(3, 3), type='oper', dtype=Dense, isherm=False\n",
       "Qobj data =\n",
       "[[ 4.35381633e-16-8.17158535e-16j  7.06928459e-01+0.00000000e+00j\n",
       "  -4.96043474e-16-7.06928459e-01j]\n",
       " [ 2.73991633e-16-4.43371465e-17j -1.12057009e-02+7.13377074e-04j\n",
       "   7.13377074e-04+1.12057009e-02j]\n",
       " [-5.32045758e-17-3.28789960e-16j  7.13377074e-04+1.12057009e-02j\n",
       "   1.12057009e-02-7.13377074e-04j]]"
      ]
     },
     "execution_count": 189,
     "metadata": {},
     "output_type": "execute_result"
    }
   ],
   "source": [
    "Qobj(np.reshape(np.array(eigenvectors[-3].full()), (3,3)))"
   ]
  },
  {
   "cell_type": "code",
   "execution_count": 190,
   "id": "c8cca61f",
   "metadata": {},
   "outputs": [
    {
     "data": {
      "text/latex": [
       "Quantum object: dims=[[3], [3]], shape=(3, 3), type='oper', dtype=Dense, isherm=False$$\\left(\\begin{array}{cc}0.022 & -3.580\\times10^{ -4 } & 2.849\\times10^{ -6 }\\\\0.707 & -0.011 & 0.011j\\\\(0.011+0.707j) & -0.011j & -0.011\\end{array}\\right)$$"
      ],
      "text/plain": [
       "Quantum object: dims=[[3], [3]], shape=(3, 3), type='oper', dtype=Dense, isherm=False\n",
       "Qobj data =\n",
       "[[ 2.24950869e-02-1.79010214e-04j -3.58020427e-04+2.84903604e-06j\n",
       "   2.84903604e-06+3.58020427e-04j]\n",
       " [ 7.06748749e-01+0.00000000e+00j -1.12482557e-02-3.38425171e-17j\n",
       "  -1.35388162e-16+1.12482557e-02j]\n",
       " [ 1.12475434e-02+7.06659244e-01j -1.79010214e-04-1.12468312e-02j\n",
       "  -1.12468312e-02+1.79010214e-04j]]"
      ]
     },
     "execution_count": 190,
     "metadata": {},
     "output_type": "execute_result"
    }
   ],
   "source": [
    "Qobj(np.reshape(np.array(eigenvectors[-4].full()), (3,3)))"
   ]
  },
  {
   "cell_type": "code",
   "execution_count": 197,
   "id": "f1db299b",
   "metadata": {},
   "outputs": [],
   "source": [
    "eigsL, eigvecsL = liouv.dag().eigenstates()"
   ]
  },
  {
   "cell_type": "code",
   "execution_count": 205,
   "id": "a5fada75",
   "metadata": {},
   "outputs": [
    {
     "data": {
      "text/plain": [
       "(0.08314612461701186+0.467891472630691j)"
      ]
     },
     "execution_count": 205,
     "metadata": {},
     "output_type": "execute_result"
    }
   ],
   "source": [
    "(Qobj(np.reshape(np.array(eigvecsL[-3].full()), (3,3))) * proj_1).tr()"
   ]
  }
 ],
 "metadata": {
  "kernelspec": {
   "display_name": "data_vis",
   "language": "python",
   "name": "python3"
  },
  "language_info": {
   "codemirror_mode": {
    "name": "ipython",
    "version": 3
   },
   "file_extension": ".py",
   "mimetype": "text/x-python",
   "name": "python",
   "nbconvert_exporter": "python",
   "pygments_lexer": "ipython3",
   "version": "3.10.15"
  }
 },
 "nbformat": 4,
 "nbformat_minor": 5
}
