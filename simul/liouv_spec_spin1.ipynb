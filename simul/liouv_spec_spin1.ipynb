{
 "cells": [
  {
   "cell_type": "markdown",
   "id": "16103a4d",
   "metadata": {},
   "source": [
    "Code to generate and analyze the Liouville spectrum of the 3 level atom case"
   ]
  },
  {
   "cell_type": "code",
   "execution_count": null,
   "id": "ebff7472",
   "metadata": {},
   "outputs": [],
   "source": [
    "import qutip as qt\n",
    "import numpy as np\n",
    "import time\n",
    "import matplotlib.pyplot as plt"
   ]
  },
  {
   "cell_type": "code",
   "execution_count": 106,
   "id": "286c9f8c",
   "metadata": {},
   "outputs": [],
   "source": [
    "plt.rcParams.update({\n",
    "    # LaTeX rendering and font configuration\n",
    "    \"text.usetex\": True,\n",
    "    \"font.family\": \"serif\",\n",
    "    \"font.serif\": [\"Palatino\"],  # mathpazo corresponds to Palatino font\n",
    "    \"font.size\": 18,  # Base font size\n",
    "    \n",
    "    # Font sizes for specific elements\n",
    "    \"axes.titlesize\": 22,        # Axis title\n",
    "    \"axes.labelsize\": 20,         # Axis labels\n",
    "    \"xtick.labelsize\": 18,        # X-ticks\n",
    "    \"ytick.labelsize\": 18,        # Y-ticks\n",
    "    \"legend.fontsize\": 18,        # Legend\n",
    "    \"figure.titlesize\": 24,       # Figure title\n",
    "    \n",
    "    # LaTeX preamble packages\n",
    "    \"text.latex.preamble\": r\"\"\"\n",
    "        \\usepackage{amsmath}\n",
    "        \\usepackage{amsfonts}\n",
    "        \\usepackage{amssymb}\n",
    "        \\usepackage{lmodern}\n",
    "        \\usepackage{mathpazo}\n",
    "    \"\"\"\n",
    "})"
   ]
  },
  {
   "cell_type": "code",
   "execution_count": 39,
   "id": "3d02d491",
   "metadata": {},
   "outputs": [],
   "source": [
    "# Parameters\n",
    "g, κ = 0.1, 1.0\n",
    "Δ1, Δ2 = 2*np.pi * 1.0*g, -2*np.pi *1.0*g\n",
    "ϕ = 0\n",
    "η = 0.5*g \n",
    "\n",
    "N = 4  # Number of atoms (adjust as needed)\n",
    "\n",
    "\n",
    "Omega = 2*η*g/κ    # Rabi drive strength\n",
    "varphi = np.pi/2   # Phase \n",
    "gamma = 4*g*g/(N*κ)     # Dissipation rate\n",
    "Delta_1 = Δ1    # Detuning of state 1 from 0\n",
    "Delta_2 = Δ2   # Detuning of state 2 from 0\n",
    "\n",
    "\n",
    "\n",
    "# Single-atom operators\n",
    "sigma_01 = qt.projection(3, 0, 1)  # |0⟩⟨1|\n",
    "sigma_02 = qt.projection(3, 0, 2)  # |0⟩⟨2|\n",
    "sigma_10 = sigma_01.dag()\n",
    "sigma_20 = sigma_02.dag()\n",
    "proj_1 = qt.projection(3, 1, 1)    # |1⟩⟨1|\n",
    "proj_2 = qt.projection(3, 2, 2)    # |2⟩⟨2|\n",
    "id3 = qt.qeye(3)                   # Identity for a single atom\n",
    "\n",
    "# Initialize composite operators for N atoms\n",
    "H_detuning = 0\n",
    "H_drive = 0\n",
    "c_ops = []\n",
    "\n",
    "for i in range(N):\n",
    "    # Detuning terms for atom i\n",
    "    H_detuning_i = (\n",
    "        Delta_1 * qt.tensor([id3]*i + [proj_1] + [id3]*(N-i-1)) +\n",
    "        Delta_2 * qt.tensor([id3]*i + [proj_2] + [id3]*(N-i-1)))\n",
    "    H_detuning += H_detuning_i\n",
    "\n",
    "    # Drive terms for atom i\n",
    "    drive_i = Omega * (\n",
    "        qt.tensor([id3]*i + [sigma_01] + [id3]*(N-i-1)) +\n",
    "        qt.tensor([id3]*i + [sigma_10] + [id3]*(N-i-1)) +\n",
    "        np.exp(-1j * varphi) * qt.tensor([id3]*i + [sigma_02] + [id3]*(N-i-1)) +\n",
    "        np.exp(-1j * varphi) * qt.tensor([id3]*i + [sigma_20] + [id3]*(N-i-1)))\n",
    "    H_drive += drive_i\n",
    "\n",
    "    # Dissipator for atom i\n",
    "    L_i = np.sqrt(gamma) * (\n",
    "        qt.tensor([id3]*i + [sigma_01] + [id3]*(N-i-1)) +\n",
    "        np.exp(-1j * varphi) * qt.tensor([id3]*i + [sigma_02] + [id3]*(N-i-1)))\n",
    "    c_ops.append(L_i)\n",
    "\n",
    "# Full Hamiltonian and Liouvillian\n",
    "H = H_detuning + H_drive\n",
    "liouv = qt.liouvillian(H, c_ops)"
   ]
  },
  {
   "cell_type": "code",
   "execution_count": null,
   "id": "48d51c66",
   "metadata": {},
   "outputs": [],
   "source": [
    "eigenvalues = liouv.eigenenergies(sparse=True, sort='high',eigvals=15, tol=1e-6)\n",
    "sorted_indices = np.argsort(-np.real(eigenvalues))\n",
    "eigenvalues = eigenvalues[sorted_indices]\n",
    "\n",
    "# Plot eigenvalues\n",
    "real_parts = np.real(eigenvalues)\n",
    "imag_parts = np.imag(eigenvalues)\n",
    "\n",
    "# Create scatter plot\n",
    "plt.figure(figsize=(8, 6))\n",
    "plt.scatter(real_parts, imag_parts, color='black', label='Eigenvalues', s=50)\n",
    "\n",
    "plt.xlabel(r'Re($\\lambda$)')\n",
    "plt.ylabel(r'Im($\\lambda$)')\n",
    "plt.xticks([0,-1e-5],[0, 1])\n",
    "plt.xlim(-1.2e-5,5e-8)\n",
    "\n",
    "\n",
    "plt.show()"
   ]
  },
  {
   "cell_type": "code",
   "execution_count": 45,
   "id": "d56d163e",
   "metadata": {},
   "outputs": [],
   "source": [
    "eigenvalues = liouv.eigenenergies(sparse=True, sort='high',eigvals=16, tol=1e-3)\n",
    "sorted_indices = np.argsort(-np.real(eigenvalues))\n",
    "eigenvalues = eigenvalues[sorted_indices]\n",
    "\n",
    "# Plot eigenvalues\n",
    "real_parts = np.real(eigenvalues)\n",
    "imag_parts = np.imag(eigenvalues)\n",
    "#np.savetxt('Liouv+Det_real.txt', real_parts)\n",
    "#np.savetxt('Liouv+Det_imag.txt', imag_parts)\n",
    "\n",
    "np.savetxt('Liouv-Det_real.txt', real_parts)\n",
    "np.savetxt('Liouv-Det_imag.txt', imag_parts)\n",
    "\n"
   ]
  },
  {
   "cell_type": "markdown",
   "id": "54155999",
   "metadata": {},
   "source": [
    "Plotting both eDFS and DFS on single plot"
   ]
  },
  {
   "cell_type": "code",
   "execution_count": 160,
   "id": "3fd0603d",
   "metadata": {},
   "outputs": [
    {
     "data": {
      "image/png": "[encoded data removed]",
      "text/plain": [
       "<Figure size 1500x500 with 3 Axes>"
      ]
     },
     "metadata": {},
     "output_type": "display_data"
    }
   ],
   "source": [
    "# — your data placeholders — \n",
    "# (we need  real_parts1, imag_parts1, real_parts2, imag_parts2, Ns, gaps, x_fit, fit defined)\n",
    "\n",
    "real1 = np.loadtxt('Liouv+Det_real.txt')\n",
    "imag1 = np.loadtxt('Liouv+Det_imag.txt')\n",
    "parts1 = (real1, imag1)\n",
    "\n",
    "real2 = np.loadtxt('Liouv-Det_real.txt')\n",
    "imag2 = np.loadtxt('Liouv-Det_imag.txt')\n",
    "parts2 = (real2, imag2)\n",
    "\n",
    "gaps = np.loadtxt('gaps.txt') \n",
    "\n",
    "\n",
    "fig = plt.figure(figsize=(15, 5))\n",
    "\n",
    "# Left panel\n",
    "ax0 = fig.add_subplot(1, 3, 1)\n",
    "ax0.scatter(parts1[0], parts1[1], color='black', label='Data', s=100)\n",
    "ax0.set_xlabel(r'Re($\\lambda$)')\n",
    "ax0.set_ylabel(r'Im($\\lambda$)')\n",
    "ax0.set_xticks([0, -1e-6])\n",
    "ax0.set_yticks([-1,0,1],[-1,0,1])\n",
    "ax0.set_xlim(-1.2e-6, 1e-8)\n",
    "ax0.set_ylim(-1.5,1.5)\n",
    "ax0.axhline(0, color=\"black\", lw=2, linestyle=\":\")\n",
    "ax0.text(\n",
    "    0.1, 0.2, r\"$\\mathrm{\\Delta_1}=\\mathrm{\\Delta_2}$\",\n",
    "    transform=ax0.transAxes,\n",
    "    fontsize=30,\n",
    "    color=\"black\",\n",
    "    va=\"bottom\",\n",
    "    ha=\"left\",\n",
    "    bbox=dict(facecolor=\"forestgreen\", edgecolor=\"black\", boxstyle=\"round,pad=0.15\", alpha=0.75)\n",
    ")\n",
    "\n",
    "ax0.legend(loc=\"upper left\")\n",
    "\n",
    "# Middle panel (shares y-axis with left)\n",
    "ax1 = fig.add_subplot(1, 3, 2, sharey=ax0)\n",
    "ax1.scatter(parts2[0], parts2[1], color='black', label='Data', s=100)\n",
    "ax1.set_xlabel(r'Re($\\lambda$)')\n",
    "# no need to set ylabel again since shared\n",
    "ax1.axhline(0, color=\"black\", lw=2, linestyle=\":\")\n",
    "ax1.set_xticks([0,  -1e-2, -2e-2])\n",
    "ax1.set_yticks([-1,0,1],[-1,0,1])\n",
    "ax1.set_xlim(-2e-2, 1e-4)\n",
    "ax1.set_ylim(-1.5,1.5)\n",
    "ax1.text(\n",
    "    0.1, 0.2, r\"$\\mathrm{\\Delta_1}=-\\mathrm{\\Delta_2}$\",\n",
    "    transform=ax1.transAxes,\n",
    "    fontsize=30,\n",
    "    color=\"black\",\n",
    "    va=\"bottom\",\n",
    "    ha=\"left\",\n",
    "    bbox=dict(facecolor=\"xkcd:sky blue\", edgecolor=\"black\", boxstyle=\"round,pad=0.15\", alpha=0.75)\n",
    ")\n",
    "ax1.annotate(\n",
    "    '', \n",
    "    xy=(0.95, 0.51),       # arrow head (in axes fraction)\n",
    "    xytext=(0.6, 0.6),   # arrow tail\n",
    "    xycoords='axes fraction',\n",
    "    arrowprops=dict(arrowstyle='->', lw=5)\n",
    ")\n",
    "ax1.text(\n",
    "    0.81, 0.55, r'$N$',\n",
    "    transform=ax1.transAxes,\n",
    "    va='bottom', ha='center',\n",
    "    fontsize=30\n",
    ")\n",
    "\n",
    "# Right panel: finite‐size scaling\n",
    "ax2 = fig.add_subplot(1, 3, 3)\n",
    "ax2.plot(x_fit, fit*1e3, linestyle='--', color='grey', label=r'$1/N$ fit', lw=3)\n",
    "ax2.scatter(Ns, gaps*1e3, color='black', s=100)\n",
    "ax2.set_xlabel(r'System size $N$')\n",
    "ax2.set_ylabel(r'$\\mathcal{L}\\;\\mathrm{-gap\\,} (\\times10^{-3})$')\n",
    "ax2.legend()\n",
    "ax2.set_yscale('log')\n",
    "ax2.set_yticks([50, 10, 1], [50, 10,1])\n",
    "ax2.set_xticks([1,3,5,7])\n",
    "# labels already match ticks\n",
    "ax2.tick_params(axis='both', which='major')\n",
    "\n",
    "fig.tight_layout()\n",
    "plt.show()\n",
    "\n",
    "plt.savefig(\"fig4.svg\", bbox_inches=\"tight\")"
   ]
  },
  {
   "cell_type": "markdown",
   "id": "0dad5ac8",
   "metadata": {},
   "source": [
    "Scaling of Liouvillian gap"
   ]
  },
  {
   "cell_type": "code",
   "execution_count": null,
   "id": "16417267",
   "metadata": {},
   "outputs": [],
   "source": [
    "def dominant_gap_real(N):\n",
    "    \"\"\"\n",
    "    Build the N-atom Liouvillian, compute its low-lying spectrum,\n",
    "    and return the real part of the first nonzero eigenvalue (the gap).\n",
    "    \"\"\"\n",
    "    gamma = 4*g*g/(N*κ)     # Dissipation rate\n",
    "\n",
    "    # Single-atom operators\n",
    "    id3     = qt.qeye(3)\n",
    "    s01, s02 = qt.projection(3,0,1), qt.projection(3,0,2)\n",
    "    s10, s20 = s01.dag(), s02.dag()\n",
    "    p1, p2   = qt.projection(3,1,1), qt.projection(3,2,2)\n",
    "\n",
    "    H_det = 0\n",
    "    H_drv = 0\n",
    "    c_ops = []\n",
    "\n",
    "    for i in range(N):\n",
    "        # Detuning\n",
    "        H_det += (Δ1 * qt.tensor([id3]*i + [p1]   + [id3]*(N-i-1))\n",
    "                + Δ2 * qt.tensor([id3]*i + [p2]   + [id3]*(N-i-1)))\n",
    "        # Coherent drive\n",
    "        H_drv += Omega * (\n",
    "            qt.tensor([id3]*i + [s01] + [id3]*(N-i-1))\n",
    "          + qt.tensor([id3]*i + [s10] + [id3]*(N-i-1))\n",
    "          + np.exp(-1j*varphi)*qt.tensor([id3]*i + [s02] + [id3]*(N-i-1))\n",
    "          + np.exp(-1j*varphi)*qt.tensor([id3]*i + [s20] + [id3]*(N-i-1))\n",
    "        )\n",
    "        # Collective jump\n",
    "        L = np.sqrt(gamma) * (\n",
    "            qt.tensor([id3]*i + [s01] + [id3]*(N-i-1))\n",
    "          + np.exp(-1j*varphi)*qt.tensor([id3]*i + [s02] + [id3]*(N-i-1))\n",
    "        )\n",
    "        c_ops.append(L)\n",
    "\n",
    "    L = qt.liouvillian(H_det + H_drv, c_ops)\n",
    "    # ask for a few smallest-in-magnitude eigenvalues\n",
    "    eigs = L.eigenenergies(sparse=True, sort='high',eigvals=N+1, tol=1e-3)\n",
    "    # sort by descending real part: zero mode first\n",
    "    idx  = np.argsort(-np.real(eigs))\n",
    "    eigs = eigs[idx]\n",
    "    # return the gap (second entry)\n",
    "    return -1*np.real(eigs[1])\n",
    "\n",
    "# Sweep N = 1…N\n",
    "Ns   = np.arange(1,8)\n",
    "gaps = np.array([dominant_gap_real(N) for N in Ns])\n",
    "\n",
    "#np.savetxt('gaps.txt', gaps)"
   ]
  },
  {
   "cell_type": "code",
   "execution_count": 30,
   "id": "e7f74f87",
   "metadata": {},
   "outputs": [
    {
     "name": "stdout",
     "output_type": "stream",
     "text": [
      "Fitted parameter:\n",
      "  A = 0.019978 ± 0.000009\n"
     ]
    }
   ],
   "source": [
    "# Extract gaps text file\n",
    "gaps = np.loadtxt('gaps.txt')\n",
    "\n",
    "x = Ns\n",
    "\n",
    "from scipy.optimize import curve_fit\n",
    "def inv_model(x, A):\n",
    "    return A / x\n",
    "\n",
    "# Initial guess for A\n",
    "initial_guess = [gaps[0] * x[0]]  # ~0.01998\n",
    "\n",
    "# Perform the curve fitting\n",
    "popt, pcov = curve_fit(inv_model, x, gaps, p0=initial_guess)\n",
    "A_fit = popt[0]\n",
    "perr = np.sqrt(np.diag(pcov))[0]\n",
    "\n",
    "# Print fitted parameter and its uncertainty\n",
    "print(f\"Fitted parameter:\")\n",
    "print(f\"  A = {A_fit:.6f} ± {perr:.6f}\")\n",
    "\n",
    "# Generate smooth curve for plotting\n",
    "x_fit = np.linspace(x.min(), x.max(), 200)\n",
    "fit = inv_model(x_fit, A_fit)"
   ]
  },
  {
   "cell_type": "code",
   "execution_count": null,
   "id": "1fc0d1cb",
   "metadata": {},
   "outputs": [],
   "source": [
    "# Extract gaps text file\n",
    "gaps = np.loadtxt('gaps.txt')\n",
    "\n",
    "\n",
    "plt.figure(figsize=(8,6))\n",
    "plt.plot(x_fit, fit*1e3, linestyle='--', color='grey',label=r'$1/N$ fit', lw=3)\n",
    "plt.scatter(Ns, gaps*1e3, color='black', s=100, label='Data')\n",
    "plt.xlabel(r'System size $N$')\n",
    "plt.ylabel(r'$\\mathrm{Liouvillian\\; gap } (\\times10^{-3})$')\n",
    "# plt.ylabel(r'$\\mathrm{Liouvillian\\; gap }$')\n",
    "plt.legend()\n",
    "plt.yscale('log')\n",
    "plt.yticks([50, 10, 1], [50, 10, 1])\n",
    "# plt.xticks([1,2,3,4,5,6,7])\n",
    "plt.tight_layout()\n",
    "plt.show()"
   ]
  },
  {
   "cell_type": "code",
   "execution_count": null,
   "id": "c8751e83",
   "metadata": {},
   "outputs": [],
   "source": [
    "# print(np.real(eigenvalues))\n",
    "# print(np.imag(eigenvalues))\n",
    "\n",
    "print(eigenvalues)"
   ]
  },
  {
   "cell_type": "code",
   "execution_count": null,
   "id": "2c6e21d3",
   "metadata": {},
   "outputs": [],
   "source": [
    "eigs, eigenvectors = liouv.eigenstates()\n",
    "# sorted_indices = np.argsort(-np.real(eigenvectors))\n",
    "# eigenvectors = eigenvectors[sorted_indices]"
   ]
  },
  {
   "cell_type": "code",
   "execution_count": null,
   "id": "084b5805",
   "metadata": {},
   "outputs": [],
   "source": [
    "eigs[-4]"
   ]
  },
  {
   "cell_type": "code",
   "execution_count": null,
   "id": "7282bf08",
   "metadata": {},
   "outputs": [],
   "source": [
    "sorted_indices = np.argsort(-np.real(eigs))\n",
    "eigssort = eigs[sorted_indices]"
   ]
  },
  {
   "cell_type": "code",
   "execution_count": null,
   "id": "ba517214",
   "metadata": {},
   "outputs": [],
   "source": [
    "Qobj(np.reshape(np.array(eigenvectors[-3].full()), (3,3)))"
   ]
  },
  {
   "cell_type": "code",
   "execution_count": null,
   "id": "c8cca61f",
   "metadata": {},
   "outputs": [],
   "source": [
    "Qobj(np.reshape(np.array(eigenvectors[-4].full()), (3,3)))"
   ]
  },
  {
   "cell_type": "code",
   "execution_count": null,
   "id": "f1db299b",
   "metadata": {},
   "outputs": [],
   "source": [
    "eigsL, eigvecsL = liouv.dag().eigenstates()"
   ]
  },
  {
   "cell_type": "code",
   "execution_count": null,
   "id": "a5fada75",
   "metadata": {},
   "outputs": [],
   "source": [
    "(Qobj(np.reshape(np.array(eigvecsL[-3].full()), (3,3))) * proj_1).tr()"
   ]
  },
  {
   "cell_type": "code",
   "execution_count": null,
   "id": "f7c67a2e",
   "metadata": {},
   "outputs": [],
   "source": []
  }
 ],
 "metadata": {
  "kernelspec": {
   "display_name": "data_vis",
   "language": "python",
   "name": "python3"
  },
  "language_info": {
   "codemirror_mode": {
    "name": "ipython",
    "version": 3
   },
   "file_extension": ".py",
   "mimetype": "text/x-python",
   "name": "python",
   "nbconvert_exporter": "python",
   "pygments_lexer": "ipython3",
   "version": "3.11.8"
  }
 },
 "nbformat": 4,
 "nbformat_minor": 5
}
