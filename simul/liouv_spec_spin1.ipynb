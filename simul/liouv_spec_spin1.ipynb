{
 "cells": [
  {
   "cell_type": "markdown",
   "id": "16103a4d",
   "metadata": {},
   "source": [
    "Code to generate and analyze the Liouville spectrum of the 3 level atom case"
   ]
  },
  {
   "cell_type": "code",
   "execution_count": 2,
   "id": "ebff7472",
   "metadata": {},
   "outputs": [],
   "source": [
    "import qutip as qt\n",
    "import numpy as np\n",
    "import time\n",
    "import matplotlib.pyplot as plt"
   ]
  },
  {
   "cell_type": "code",
   "execution_count": 3,
   "id": "286c9f8c",
   "metadata": {},
   "outputs": [],
   "source": [
    "plt.rcParams.update({\n",
    "    # LaTeX rendering and font configuration\n",
    "    \"text.usetex\": True,\n",
    "    \"font.family\": \"serif\",\n",
    "    \"font.serif\": [\"Palatino\"],  # mathpazo corresponds to Palatino font\n",
    "    \"font.size\": 18,  # Base font size\n",
    "    \n",
    "    # Font sizes for specific elements\n",
    "    \"axes.titlesize\": 22,        # Axis title\n",
    "    \"axes.labelsize\": 20,         # Axis labels\n",
    "    \"xtick.labelsize\": 18,        # X-ticks\n",
    "    \"ytick.labelsize\": 18,        # Y-ticks\n",
    "    \"legend.fontsize\": 18,        # Legend\n",
    "    \"figure.titlesize\": 24,       # Figure title\n",
    "    \n",
    "    # LaTeX preamble packages\n",
    "    \"text.latex.preamble\": r\"\"\"\n",
    "        \\usepackage{amsmath}\n",
    "        \\usepackage{amsfonts}\n",
    "        \\usepackage{amssymb}\n",
    "        \\usepackage{lmodern}\n",
    "        \\usepackage{mathpazo}\n",
    "    \"\"\"\n",
    "})"
   ]
  },
  {
   "cell_type": "code",
   "execution_count": 54,
   "id": "3d02d491",
   "metadata": {},
   "outputs": [],
   "source": [
    "# Parameters\n",
    "g, κ = 0.1, 1.0\n",
    "Δ1, Δ2 = 2*np.pi * 1.0*g ,-2*np.pi *1.0*g\n",
    "ϕ = 0\n",
    "η = 0.5*g \n",
    "\n",
    "N = 4  # Number of atoms (adjust as needed)\n",
    "\n",
    "\n",
    "Omega = 2*η*g/κ    # Rabi drive strength\n",
    "varphi = np.pi/2   # Phase \n",
    "gamma = 4*g*g/(N*κ)     # Dissipation rate\n",
    "Delta_1 = Δ1    # Detuning of state 1 from 0\n",
    "Delta_2 = Δ2   # Detuning of state 2 from 0\n",
    "\n",
    "\n",
    "\n",
    "# Single-atom operators\n",
    "sigma_01 = qt.projection(3, 0, 1)  # |0⟩⟨1|\n",
    "sigma_02 = qt.projection(3, 0, 2)  # |0⟩⟨2|\n",
    "sigma_10 = sigma_01.dag()\n",
    "sigma_20 = sigma_02.dag()\n",
    "proj_1 = qt.projection(3, 1, 1)    # |1⟩⟨1|\n",
    "proj_2 = qt.projection(3, 2, 2)    # |2⟩⟨2|\n",
    "id3 = qt.qeye(3)                   # Identity for a single atom\n",
    "\n",
    "# Initialize composite operators for N atoms\n",
    "H_detuning = 0\n",
    "H_drive = 0\n",
    "c_ops = []\n",
    "\n",
    "for i in range(N):\n",
    "    # Detuning terms for atom i\n",
    "    H_detuning_i = (\n",
    "        Delta_1 * qt.tensor([id3]*i + [proj_1] + [id3]*(N-i-1)) +\n",
    "        Delta_2 * qt.tensor([id3]*i + [proj_2] + [id3]*(N-i-1)))\n",
    "    H_detuning += H_detuning_i\n",
    "\n",
    "    # Drive terms for atom i\n",
    "    drive_i = Omega * (\n",
    "        qt.tensor([id3]*i + [sigma_01] + [id3]*(N-i-1)) +\n",
    "        qt.tensor([id3]*i + [sigma_10] + [id3]*(N-i-1)) +\n",
    "        np.exp(-1j * varphi) * qt.tensor([id3]*i + [sigma_02] + [id3]*(N-i-1)) +\n",
    "        np.exp(-1j * varphi) * qt.tensor([id3]*i + [sigma_20] + [id3]*(N-i-1)))\n",
    "    H_drive += drive_i\n",
    "\n",
    "    # Dissipator for atom i\n",
    "    L_i = np.sqrt(gamma) * (\n",
    "        qt.tensor([id3]*i + [sigma_01] + [id3]*(N-i-1)) +\n",
    "        np.exp(-1j * varphi) * qt.tensor([id3]*i + [sigma_02] + [id3]*(N-i-1)))\n",
    "    c_ops.append(L_i)\n",
    "\n",
    "# Full Hamiltonian and Liouvillian\n",
    "H = H_detuning + H_drive\n",
    "liouv = qt.liouvillian(H, c_ops)"
   ]
  },
  {
   "cell_type": "code",
   "execution_count": 55,
   "id": "48d51c66",
   "metadata": {},
   "outputs": [
    {
     "data": {
      "image/png": "[encoded data removed]",
      "text/plain": [
       "<Figure size 800x600 with 1 Axes>"
      ]
     },
     "metadata": {},
     "output_type": "display_data"
    }
   ],
   "source": [
    "eigenvalues = liouv.eigenenergies(sparse=True, sort='high',eigvals=N+1)\n",
    "sorted_indices = np.argsort(-np.real(eigenvalues))\n",
    "eigenvalues = eigenvalues[sorted_indices]\n",
    "\n",
    "# Plot eigenvalues\n",
    "real_parts = np.real(eigenvalues)\n",
    "imag_parts = np.imag(eigenvalues)\n",
    "\n",
    "# Create scatter plot\n",
    "plt.figure(figsize=(8, 6))\n",
    "plt.scatter(real_parts, imag_parts, color='black', label='Eigenvalues', s=50)\n",
    "\n",
    "# Highlight the steady state (eigenvalue closest to zero)\n",
    "# steady_state_idx = np.argmin(np.abs(real_parts))\n",
    "# plt.scatter(real_parts[steady_state_idx], imag_parts[steady_state_idx], \n",
    "#             color='red', s=100, label='Steady State', marker='*')\n",
    "\n",
    "plt.xlabel(r'Re($\\lambda$)')\n",
    "plt.ylabel(r'Im($\\lambda$)')\n",
    "# plt.xlim(-1e-4,0)\n",
    "\n",
    "\n",
    "plt.show()"
   ]
  },
  {
   "cell_type": "code",
   "execution_count": 57,
   "id": "e772c55f",
   "metadata": {},
   "outputs": [
    {
     "data": {
      "text/plain": [
       "np.float64(-0.004996196481075942)"
      ]
     },
     "execution_count": 57,
     "metadata": {},
     "output_type": "execute_result"
    }
   ],
   "source": [
    "np.real(eigenvalues[1])"
   ]
  },
  {
   "cell_type": "markdown",
   "id": "0dad5ac8",
   "metadata": {},
   "source": [
    "Scaling of Liouvillian gap"
   ]
  },
  {
   "cell_type": "code",
   "execution_count": null,
   "id": "16417267",
   "metadata": {},
   "outputs": [],
   "source": [
    "def dominant_gap_real(N):\n",
    "    \"\"\"\n",
    "    Build the N-atom Liouvillian, compute its low-lying spectrum,\n",
    "    and return the real part of the first nonzero eigenvalue (the gap).\n",
    "    \"\"\"\n",
    "    gamma = 4*g*g/(N*κ)     # Dissipation rate\n",
    "\n",
    "    # Single-atom operators\n",
    "    id3     = qt.qeye(3)\n",
    "    s01, s02 = qt.projection(3,0,1), qt.projection(3,0,2)\n",
    "    s10, s20 = s01.dag(), s02.dag()\n",
    "    p1, p2   = qt.projection(3,1,1), qt.projection(3,2,2)\n",
    "\n",
    "    H_det = 0\n",
    "    H_drv = 0\n",
    "    c_ops = []\n",
    "\n",
    "    for i in range(N):\n",
    "        # Detuning\n",
    "        H_det += (Δ1 * qt.tensor([id3]*i + [p1]   + [id3]*(N-i-1))\n",
    "                + Δ2 * qt.tensor([id3]*i + [p2]   + [id3]*(N-i-1)))\n",
    "        # Coherent drive\n",
    "        H_drv += Omega * (\n",
    "            qt.tensor([id3]*i + [s01] + [id3]*(N-i-1))\n",
    "          + qt.tensor([id3]*i + [s10] + [id3]*(N-i-1))\n",
    "          + np.exp(-1j*varphi)*qt.tensor([id3]*i + [s02] + [id3]*(N-i-1))\n",
    "          + np.exp(-1j*varphi)*qt.tensor([id3]*i + [s20] + [id3]*(N-i-1))\n",
    "        )\n",
    "        # Collective jump\n",
    "        L = np.sqrt(gamma) * (\n",
    "            qt.tensor([id3]*i + [s01] + [id3]*(N-i-1))\n",
    "          + np.exp(-1j*varphi)*qt.tensor([id3]*i + [s02] + [id3]*(N-i-1))\n",
    "        )\n",
    "        c_ops.append(L)\n",
    "\n",
    "    L = qt.liouvillian(H_det + H_drv, c_ops)\n",
    "    # ask for a few smallest-in-magnitude eigenvalues\n",
    "    eigs = L.eigenenergies(sparse=True, sort='high',eigvals=N+1)\n",
    "    # sort by descending real part: zero mode first\n",
    "    idx  = np.argsort(-np.real(eigs))\n",
    "    eigs = eigs[idx]\n",
    "    # return the gap (second entry)\n",
    "    return -1*np.real(eigs[1])\n",
    "\n",
    "# Sweep N = 1…N\n",
    "Ns   = np.arange(1,6)\n",
    "gaps = np.array([dominant_gap_real(N) for N in Ns])"
   ]
  },
  {
   "cell_type": "code",
   "execution_count": null,
   "id": "e7f74f87",
   "metadata": {},
   "outputs": [],
   "source": [
    "# Fit gap = a (1/N) + b\n",
    "x      = 1/Ns\n",
    "a, b   = np.polyfit(x, gaps, 1)\n",
    "fit    = a*x + b"
   ]
  },
  {
   "cell_type": "code",
   "execution_count": null,
   "id": "1fc0d1cb",
   "metadata": {},
   "outputs": [
    {
     "data": {
      "image/png": "[encoded data removed]",
      "text/plain": [
       "<Figure size 800x600 with 1 Axes>"
      ]
     },
     "metadata": {},
     "output_type": "display_data"
    }
   ],
   "source": [
    "plt.figure(figsize=(8,6))\n",
    "plt.plot(Ns, fit, linestyle='--', color='grey',label=r'$1/N$', lw=3)\n",
    "plt.scatter(Ns, gaps, color='black', s=100, label='Data')\n",
    "plt.xlabel('System size $N$')\n",
    "plt.ylabel(r'$\\mathrm{Liouvillian\\; gap } (\\times10^{-3})$')\n",
    "plt.legend()\n",
    "plt.yticks([0.02, 0.01, 0.005],[20,10,5])\n",
    "plt.xticks([1,2,3,4])\n",
    "plt.tight_layout()\n",
    "plt.show()"
   ]
  },
  {
   "cell_type": "code",
   "execution_count": 221,
   "id": "c8751e83",
   "metadata": {},
   "outputs": [
    {
     "name": "stdout",
     "output_type": "stream",
     "text": [
      "[ 6.65755884e-17+4.74443016e-17j -9.99746183e-03+5.12319451e-11j\n",
      " -9.99746183e-03+5.12318645e-11j -1.48145950e-02+6.19179375e-01j\n",
      " -1.48145950e-02+6.19179375e-01j -1.48148361e-02-6.36508017e-01j\n",
      " -1.48148361e-02-6.36508017e-01j -1.48354173e-02+1.93727165e-02j\n",
      " -1.48354173e-02+1.93727165e-02j -1.51645848e-02-1.93729192e-02j\n",
      " -1.51645848e-02-1.93729192e-02j -1.51826244e-02-6.19173347e-01j\n",
      " -1.51826244e-02-6.19173347e-01j -1.51828656e-02+6.36502314e-01j\n",
      " -1.51828656e-02+6.36502314e-01j -1.99949237e-02+1.02464019e-10j\n",
      " -2.00076150e-02-1.21458044e-07j -2.00076150e-02-1.21458044e-07j\n",
      " -2.48120568e-02+6.19179375e-01j -2.48120568e-02+6.19179375e-01j\n",
      " -2.48122980e-02-6.36508017e-01j -2.48122980e-02-6.36508017e-01j\n",
      " -2.48328791e-02+1.93727165e-02j -2.48328791e-02+1.93727165e-02j\n",
      " -2.51620466e-02-1.93729192e-02j -2.51620466e-02-1.93729192e-02j\n",
      " -2.51800862e-02-6.19173347e-01j -2.51800862e-02-6.19173347e-01j\n",
      " -2.51803274e-02+6.36502314e-01j -2.51803274e-02+6.36502314e-01j\n",
      " -2.96291899e-02+1.23835875e+00j -2.96294311e-02-1.73286424e-02j\n",
      " -2.96294311e-02-1.73286424e-02j -2.96296722e-02-1.27301603e+00j\n",
      " -2.96500123e-02+6.38552091e-01j -2.96500123e-02+6.38552091e-01j\n",
      " -2.96502534e-02-6.17135301e-01j -2.96502534e-02-6.17135301e-01j\n",
      " -2.96708346e-02+3.87454329e-02j -2.99791798e-02+5.99806456e-01j\n",
      " -2.99791798e-02+5.99806456e-01j -2.99794209e-02-6.55880936e-01j\n",
      " -2.99794209e-02-6.55880936e-01j -2.99972194e-02+6.02772245e-06j\n",
      " -2.99972194e-02+6.02772245e-06j -2.99974605e-02-1.25568136e+00j\n",
      " -2.99974605e-02-1.25568136e+00j -2.99974605e-02+1.25568169e+00j\n",
      " -2.99974605e-02+1.25568169e+00j -2.99977017e-02-5.70356622e-06j\n",
      " -2.99977017e-02-5.70356622e-06j -3.00000021e-02-2.02749416e-07j\n",
      " -3.00000021e-02-2.02749416e-07j -3.00050768e-02-1.21406812e-07j\n",
      " -3.00050768e-02-1.21406812e-07j -3.00180417e-02-5.99800631e-01j\n",
      " -3.00180417e-02-5.99800631e-01j -3.00182829e-02+6.55875030e-01j\n",
      " -3.00182829e-02+6.55875030e-01j -3.03291696e-02-3.87458384e-02j\n",
      " -3.03472092e-02-6.38546266e-01j -3.03472092e-02-6.38546266e-01j\n",
      " -3.03474504e-02+6.17129394e-01j -3.03474504e-02+6.17129394e-01j\n",
      " -3.03652488e-02-1.23834669e+00j -3.03654900e-02+1.73289665e-02j\n",
      " -3.03654900e-02+1.73289665e-02j -3.03657311e-02+1.27300463e+00j\n",
      " -3.48222100e-02+6.19179253e-01j -3.48222100e-02+6.19179253e-01j\n",
      " -3.48224511e-02-6.36508139e-01j -3.48224511e-02-6.36508139e-01j\n",
      " -3.48430323e-02+1.93725950e-02j -3.48430323e-02+1.93725950e-02j\n",
      " -3.51721998e-02-1.93730407e-02j -3.51721998e-02-1.93730407e-02j\n",
      " -3.51902394e-02-6.19173469e-01j -3.51902394e-02-6.19173469e-01j\n",
      " -3.51904806e-02+6.36502192e-01j -3.51904806e-02+6.36502192e-01j\n",
      " -4.00152300e-02-2.42916088e-07j]\n"
     ]
    }
   ],
   "source": [
    "# print(np.real(eigenvalues))\n",
    "# print(np.imag(eigenvalues))\n",
    "\n",
    "print(eigenvalues)"
   ]
  },
  {
   "cell_type": "code",
   "execution_count": 181,
   "id": "2c6e21d3",
   "metadata": {},
   "outputs": [],
   "source": [
    "eigs, eigenvectors = liouv.eigenstates()\n",
    "# sorted_indices = np.argsort(-np.real(eigenvectors))\n",
    "# eigenvectors = eigenvectors[sorted_indices]"
   ]
  },
  {
   "cell_type": "code",
   "execution_count": 194,
   "id": "084b5805",
   "metadata": {},
   "outputs": [
    {
     "data": {
      "text/plain": [
       "np.complex128(-2.2724877535296173e-16+0.628318530717958j)"
      ]
     },
     "execution_count": 194,
     "metadata": {},
     "output_type": "execute_result"
    }
   ],
   "source": [
    "eigs[-4]"
   ]
  },
  {
   "cell_type": "code",
   "execution_count": 172,
   "id": "7282bf08",
   "metadata": {},
   "outputs": [],
   "source": [
    "sorted_indices = np.argsort(-np.real(eigs))\n",
    "eigssort = eigs[sorted_indices]"
   ]
  },
  {
   "cell_type": "code",
   "execution_count": null,
   "id": "ba517214",
   "metadata": {},
   "outputs": [
    {
     "data": {
      "text/latex": [
       "Quantum object: dims=[[3], [3]], shape=(3, 3), type='oper', dtype=Dense, isherm=False$$\\left(\\begin{array}{cc}4.354\\times10^{ -16 } & 0.707 & -0.707j\\\\2.740\\times10^{ -16 } & -0.011 & 0.011j\\\\-5.320\\times10^{ -17 } & 0.011j & 0.011\\end{array}\\right)$$"
      ],
      "text/plain": [
       "Quantum object: dims=[[3], [3]], shape=(3, 3), type='oper', dtype=Dense, isherm=False\n",
       "Qobj data =\n",
       "[[ 4.35381633e-16-8.17158535e-16j  7.06928459e-01+0.00000000e+00j\n",
       "  -4.96043474e-16-7.06928459e-01j]\n",
       " [ 2.73991633e-16-4.43371465e-17j -1.12057009e-02+7.13377074e-04j\n",
       "   7.13377074e-04+1.12057009e-02j]\n",
       " [-5.32045758e-17-3.28789960e-16j  7.13377074e-04+1.12057009e-02j\n",
       "   1.12057009e-02-7.13377074e-04j]]"
      ]
     },
     "execution_count": 189,
     "metadata": {},
     "output_type": "execute_result"
    }
   ],
   "source": [
    "Qobj(np.reshape(np.array(eigenvectors[-3].full()), (3,3)))"
   ]
  },
  {
   "cell_type": "code",
   "execution_count": 190,
   "id": "c8cca61f",
   "metadata": {},
   "outputs": [
    {
     "data": {
      "text/latex": [
       "Quantum object: dims=[[3], [3]], shape=(3, 3), type='oper', dtype=Dense, isherm=False$$\\left(\\begin{array}{cc}0.022 & -3.580\\times10^{ -4 } & 2.849\\times10^{ -6 }\\\\0.707 & -0.011 & 0.011j\\\\(0.011+0.707j) & -0.011j & -0.011\\end{array}\\right)$$"
      ],
      "text/plain": [
       "Quantum object: dims=[[3], [3]], shape=(3, 3), type='oper', dtype=Dense, isherm=False\n",
       "Qobj data =\n",
       "[[ 2.24950869e-02-1.79010214e-04j -3.58020427e-04+2.84903604e-06j\n",
       "   2.84903604e-06+3.58020427e-04j]\n",
       " [ 7.06748749e-01+0.00000000e+00j -1.12482557e-02-3.38425171e-17j\n",
       "  -1.35388162e-16+1.12482557e-02j]\n",
       " [ 1.12475434e-02+7.06659244e-01j -1.79010214e-04-1.12468312e-02j\n",
       "  -1.12468312e-02+1.79010214e-04j]]"
      ]
     },
     "execution_count": 190,
     "metadata": {},
     "output_type": "execute_result"
    }
   ],
   "source": [
    "Qobj(np.reshape(np.array(eigenvectors[-4].full()), (3,3)))"
   ]
  },
  {
   "cell_type": "code",
   "execution_count": 197,
   "id": "f1db299b",
   "metadata": {},
   "outputs": [],
   "source": [
    "eigsL, eigvecsL = liouv.dag().eigenstates()"
   ]
  },
  {
   "cell_type": "code",
   "execution_count": 205,
   "id": "a5fada75",
   "metadata": {},
   "outputs": [
    {
     "data": {
      "text/plain": [
       "(0.08314612461701186+0.467891472630691j)"
      ]
     },
     "execution_count": 205,
     "metadata": {},
     "output_type": "execute_result"
    }
   ],
   "source": [
    "(Qobj(np.reshape(np.array(eigvecsL[-3].full()), (3,3))) * proj_1).tr()"
   ]
  }
 ],
 "metadata": {
  "kernelspec": {
   "display_name": "data_vis",
   "language": "python",
   "name": "python3"
  },
  "language_info": {
   "codemirror_mode": {
    "name": "ipython",
    "version": 3
   },
   "file_extension": ".py",
   "mimetype": "text/x-python",
   "name": "python",
   "nbconvert_exporter": "python",
   "pygments_lexer": "ipython3",
   "version": "3.10.15"
  }
 },
 "nbformat": 4,
 "nbformat_minor": 5
}
